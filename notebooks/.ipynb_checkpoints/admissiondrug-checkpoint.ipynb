{
 "cells": [
  {
   "cell_type": "markdown",
   "metadata": {},
   "source": [
    "# admissionDrug\n",
    "\n",
    "The following columns are available:\n",
    "\n",
    "* admissiondrugid - primary key, has no meaning but identifies rows uniquely\n",
    "* drugOffset - number of minutes from unit admit time that the admission drug was administered\n",
    "* drugEnteredOffset - number of minutes from unit admit time that the admission drug was entered\n",
    "* drugNoteType - unique note picklist types e.g.: Comprehensive Progress Admission Intubation\n",
    "* specialtyType - physician specialty picklist types e.g.: anesthesiology gastroenterology oncology\n",
    "* userType - who documented the drug from eCareManager user picklist types e.g.: eICU Physician, Nurse, Attending Physician\n",
    "* rxincluded - Does the Note have associated Rx data: True or False\n",
    "* writtenIneICU - Was the Note written in the eICU: True or False\n",
    "* drugName - name of the selected admission drug e.g.: POTASSIUM CHLORIDE/D5NS METAXALONE PRAVACHOL\n",
    "* drugDosage - dosage of the admission drug e.g.: 20.0000 400.000\n",
    "* drugUnit - picklist units of the admission drug e.g.: mg mg/kg patch\n",
    "* drugAdmitFrequency - picklist frequency with which the admission drug is administred e.g.: PRN twice a day at bedtime\n",
    "* drughiclseqno - a code representing the drug (hierarchical ingredient code list, HICL)\n",
    "\n",
    "We recommend configuring the `config.ini` file to allow for connection to the database without specifying your password each time."
   ]
  },
  {
   "cell_type": "code",
   "execution_count": 1,
   "metadata": {},
   "outputs": [],
   "source": [
    "# Import libraries\n",
    "import numpy as np\n",
    "import pandas as pd\n",
    "import matplotlib.pyplot as plt\n",
    "import psycopg2\n",
    "import getpass\n",
    "import pdvega\n",
    "\n",
    "# for configuring connection \n",
    "from configobj import ConfigObj\n",
    "import os\n",
    "\n",
    "%matplotlib inline"
   ]
  },
  {
   "cell_type": "code",
   "execution_count": 2,
   "metadata": {},
   "outputs": [
    {
     "name": "stdout",
     "output_type": "stream",
     "text": [
      "Database: eicu\n",
      "Username: mahdimoqri\n"
     ]
    }
   ],
   "source": [
    "# Create a database connection using settings from config file\n",
    "config='../db/config.ini'\n",
    "\n",
    "# connection info\n",
    "conn_info = dict()\n",
    "if os.path.isfile(config):\n",
    "    config = ConfigObj(config)\n",
    "    conn_info[\"sqluser\"] = config['username']\n",
    "    conn_info[\"sqlpass\"] = config['password']\n",
    "    conn_info[\"sqlhost\"] = config['host']\n",
    "    conn_info[\"sqlport\"] = config['port']\n",
    "    conn_info[\"dbname\"] = config['dbname']\n",
    "    conn_info[\"schema_name\"] = config['schema_name']\n",
    "else:\n",
    "    conn_info[\"sqluser\"] = 'mahdimoqri'\n",
    "    conn_info[\"sqlpass\"] = ''\n",
    "    conn_info[\"sqlhost\"] = 'localhost'\n",
    "    conn_info[\"sqlport\"] = 5432\n",
    "    conn_info[\"dbname\"] = 'eicu'\n",
    "    conn_info[\"schema_name\"] = 'public,eicu_crd'\n",
    "    \n",
    "# Connect to the eICU database\n",
    "print('Database: {}'.format(conn_info['dbname']))\n",
    "print('Username: {}'.format(conn_info[\"sqluser\"]))\n",
    "if conn_info[\"sqlpass\"] == '':\n",
    "    # try connecting without password, i.e. peer or OS authentication\n",
    "    try:\n",
    "        if (conn_info[\"sqlhost\"] == 'localhost') & (conn_info[\"sqlport\"]=='5432'):\n",
    "            con = psycopg2.connect(dbname=conn_info[\"dbname\"],\n",
    "                                   user=conn_info[\"sqluser\"])            \n",
    "        else:\n",
    "            con = psycopg2.connect(dbname=conn_info[\"dbname\"],\n",
    "                                   host=conn_info[\"sqlhost\"],\n",
    "                                   port=conn_info[\"sqlport\"],\n",
    "                                   user=conn_info[\"sqluser\"])\n",
    "    except:\n",
    "        conn_info[\"sqlpass\"] = getpass.getpass('Password: ')\n",
    "\n",
    "        con = psycopg2.connect(dbname=conn_info[\"dbname\"],\n",
    "                               host=conn_info[\"sqlhost\"],\n",
    "                               port=conn_info[\"sqlport\"],\n",
    "                               user=conn_info[\"sqluser\"],\n",
    "                               password=conn_info[\"sqlpass\"])\n",
    "query_schema = 'set search_path to ' + conn_info['schema_name'] + ';'"
   ]
  },
  {
   "cell_type": "code",
   "execution_count": 3,
   "metadata": {},
   "outputs": [
    {
     "data": {
      "text/plain": [
       "{'sqluser': 'mahdimoqri',\n",
       " 'sqlpass': '',\n",
       " 'sqlhost': 'localhost',\n",
       " 'sqlport': 5432,\n",
       " 'dbname': 'eicu',\n",
       " 'schema_name': 'public,eicu_crd'}"
      ]
     },
     "execution_count": 3,
     "metadata": {},
     "output_type": "execute_result"
    }
   ],
   "source": [
    "conn_info"
   ]
  },
  {
   "cell_type": "markdown",
   "metadata": {},
   "source": [
    "## Examine a single patient"
   ]
  },
  {
   "cell_type": "code",
   "execution_count": 4,
   "metadata": {},
   "outputs": [],
   "source": [
    "patientunitstayid = 2704494"
   ]
  },
  {
   "cell_type": "code",
   "execution_count": 9,
   "metadata": {
    "scrolled": true
   },
   "outputs": [
    {
     "data": {
      "text/html": [
       "<div>\n",
       "<style scoped>\n",
       "    .dataframe tbody tr th:only-of-type {\n",
       "        vertical-align: middle;\n",
       "    }\n",
       "\n",
       "    .dataframe tbody tr th {\n",
       "        vertical-align: top;\n",
       "    }\n",
       "\n",
       "    .dataframe thead th {\n",
       "        text-align: right;\n",
       "    }\n",
       "</style>\n",
       "<table border=\"1\" class=\"dataframe\">\n",
       "  <thead>\n",
       "    <tr style=\"text-align: right;\">\n",
       "      <th></th>\n",
       "      <th>admissiondrugid</th>\n",
       "      <th>patientunitstayid</th>\n",
       "      <th>drugoffset</th>\n",
       "      <th>drugenteredoffset</th>\n",
       "      <th>drugnotetype</th>\n",
       "      <th>specialtytype</th>\n",
       "      <th>usertype</th>\n",
       "      <th>rxincluded</th>\n",
       "      <th>writtenineicu</th>\n",
       "      <th>drugname</th>\n",
       "      <th>drugdosage</th>\n",
       "      <th>drugunit</th>\n",
       "      <th>drugadmitfrequency</th>\n",
       "      <th>drughiclseqno</th>\n",
       "    </tr>\n",
       "  </thead>\n",
       "  <tbody>\n",
       "    <tr>\n",
       "      <th>0</th>\n",
       "      <td>13383114</td>\n",
       "      <td>2704494</td>\n",
       "      <td>-87132</td>\n",
       "      <td>2153</td>\n",
       "      <td>Comprehensive Progress</td>\n",
       "      <td>eCM Primary</td>\n",
       "      <td>THC Physician</td>\n",
       "      <td>True</td>\n",
       "      <td>False</td>\n",
       "      <td>IMDUR                                         ...</td>\n",
       "      <td>0.0</td>\n",
       "      <td></td>\n",
       "      <td></td>\n",
       "      <td>6341</td>\n",
       "    </tr>\n",
       "    <tr>\n",
       "      <th>1</th>\n",
       "      <td>13383116</td>\n",
       "      <td>2704494</td>\n",
       "      <td>-87132</td>\n",
       "      <td>2153</td>\n",
       "      <td>Comprehensive Progress</td>\n",
       "      <td>eCM Primary</td>\n",
       "      <td>THC Physician</td>\n",
       "      <td>True</td>\n",
       "      <td>False</td>\n",
       "      <td>PROTONIX                                      ...</td>\n",
       "      <td>0.0</td>\n",
       "      <td></td>\n",
       "      <td></td>\n",
       "      <td>22008</td>\n",
       "    </tr>\n",
       "    <tr>\n",
       "      <th>2</th>\n",
       "      <td>13383117</td>\n",
       "      <td>2704494</td>\n",
       "      <td>-87132</td>\n",
       "      <td>2153</td>\n",
       "      <td>Comprehensive Progress</td>\n",
       "      <td>eCM Primary</td>\n",
       "      <td>THC Physician</td>\n",
       "      <td>True</td>\n",
       "      <td>False</td>\n",
       "      <td>SOLU-MEDROL                                   ...</td>\n",
       "      <td>0.0</td>\n",
       "      <td></td>\n",
       "      <td></td>\n",
       "      <td>36808</td>\n",
       "    </tr>\n",
       "    <tr>\n",
       "      <th>3</th>\n",
       "      <td>13383119</td>\n",
       "      <td>2704494</td>\n",
       "      <td>-87132</td>\n",
       "      <td>2153</td>\n",
       "      <td>Comprehensive Progress</td>\n",
       "      <td>eCM Primary</td>\n",
       "      <td>THC Physician</td>\n",
       "      <td>True</td>\n",
       "      <td>False</td>\n",
       "      <td>ZAROXOLYN                                     ...</td>\n",
       "      <td>0.0</td>\n",
       "      <td></td>\n",
       "      <td></td>\n",
       "      <td>3663</td>\n",
       "    </tr>\n",
       "    <tr>\n",
       "      <th>4</th>\n",
       "      <td>13383118</td>\n",
       "      <td>2704494</td>\n",
       "      <td>-87132</td>\n",
       "      <td>2153</td>\n",
       "      <td>Comprehensive Progress</td>\n",
       "      <td>eCM Primary</td>\n",
       "      <td>THC Physician</td>\n",
       "      <td>True</td>\n",
       "      <td>False</td>\n",
       "      <td>SURFAK                                        ...</td>\n",
       "      <td>0.0</td>\n",
       "      <td></td>\n",
       "      <td></td>\n",
       "      <td>1324</td>\n",
       "    </tr>\n",
       "  </tbody>\n",
       "</table>\n",
       "</div>"
      ],
      "text/plain": [
       "   admissiondrugid  patientunitstayid  drugoffset  drugenteredoffset  \\\n",
       "0         13383114            2704494      -87132               2153   \n",
       "1         13383116            2704494      -87132               2153   \n",
       "2         13383117            2704494      -87132               2153   \n",
       "3         13383119            2704494      -87132               2153   \n",
       "4         13383118            2704494      -87132               2153   \n",
       "\n",
       "             drugnotetype specialtytype       usertype rxincluded  \\\n",
       "0  Comprehensive Progress   eCM Primary  THC Physician       True   \n",
       "1  Comprehensive Progress   eCM Primary  THC Physician       True   \n",
       "2  Comprehensive Progress   eCM Primary  THC Physician       True   \n",
       "3  Comprehensive Progress   eCM Primary  THC Physician       True   \n",
       "4  Comprehensive Progress   eCM Primary  THC Physician       True   \n",
       "\n",
       "  writtenineicu                                           drugname  \\\n",
       "0         False  IMDUR                                         ...   \n",
       "1         False  PROTONIX                                      ...   \n",
       "2         False  SOLU-MEDROL                                   ...   \n",
       "3         False  ZAROXOLYN                                     ...   \n",
       "4         False  SURFAK                                        ...   \n",
       "\n",
       "   drugdosage drugunit drugadmitfrequency  drughiclseqno  \n",
       "0         0.0                                       6341  \n",
       "1         0.0                                      22008  \n",
       "2         0.0                                      36808  \n",
       "3         0.0                                       3663  \n",
       "4         0.0                                       1324  "
      ]
     },
     "execution_count": 9,
     "metadata": {},
     "output_type": "execute_result"
    }
   ],
   "source": [
    "query = query_schema + \"\"\"\n",
    "select *\n",
    "from admissiondrug\n",
    "where patientunitstayid = {}\n",
    "order by drugoffset\n",
    "\"\"\".format(patientunitstayid)\n",
    "\n",
    "df = pd.read_sql_query(query, con)\n",
    "df.head()"
   ]
  },
  {
   "cell_type": "code",
   "execution_count": 10,
   "metadata": {},
   "outputs": [
    {
     "data": {
      "text/html": [
       "<div>\n",
       "<style scoped>\n",
       "    .dataframe tbody tr th:only-of-type {\n",
       "        vertical-align: middle;\n",
       "    }\n",
       "\n",
       "    .dataframe tbody tr th {\n",
       "        vertical-align: top;\n",
       "    }\n",
       "\n",
       "    .dataframe thead th {\n",
       "        text-align: right;\n",
       "    }\n",
       "</style>\n",
       "<table border=\"1\" class=\"dataframe\">\n",
       "  <thead>\n",
       "    <tr style=\"text-align: right;\">\n",
       "      <th></th>\n",
       "      <th>admissiondrugid</th>\n",
       "      <th>patientunitstayid</th>\n",
       "      <th>drugoffset</th>\n",
       "      <th>drugenteredoffset</th>\n",
       "      <th>drugname</th>\n",
       "      <th>drughiclseqno</th>\n",
       "    </tr>\n",
       "  </thead>\n",
       "  <tbody>\n",
       "    <tr>\n",
       "      <th>0</th>\n",
       "      <td>13383114</td>\n",
       "      <td>2704494</td>\n",
       "      <td>-87132</td>\n",
       "      <td>2153</td>\n",
       "      <td>IMDUR                                         ...</td>\n",
       "      <td>6341</td>\n",
       "    </tr>\n",
       "    <tr>\n",
       "      <th>1</th>\n",
       "      <td>13383116</td>\n",
       "      <td>2704494</td>\n",
       "      <td>-87132</td>\n",
       "      <td>2153</td>\n",
       "      <td>PROTONIX                                      ...</td>\n",
       "      <td>22008</td>\n",
       "    </tr>\n",
       "    <tr>\n",
       "      <th>2</th>\n",
       "      <td>13383117</td>\n",
       "      <td>2704494</td>\n",
       "      <td>-87132</td>\n",
       "      <td>2153</td>\n",
       "      <td>SOLU-MEDROL                                   ...</td>\n",
       "      <td>36808</td>\n",
       "    </tr>\n",
       "    <tr>\n",
       "      <th>3</th>\n",
       "      <td>13383119</td>\n",
       "      <td>2704494</td>\n",
       "      <td>-87132</td>\n",
       "      <td>2153</td>\n",
       "      <td>ZAROXOLYN                                     ...</td>\n",
       "      <td>3663</td>\n",
       "    </tr>\n",
       "    <tr>\n",
       "      <th>4</th>\n",
       "      <td>13383118</td>\n",
       "      <td>2704494</td>\n",
       "      <td>-87132</td>\n",
       "      <td>2153</td>\n",
       "      <td>SURFAK                                        ...</td>\n",
       "      <td>1324</td>\n",
       "    </tr>\n",
       "  </tbody>\n",
       "</table>\n",
       "</div>"
      ],
      "text/plain": [
       "   admissiondrugid  patientunitstayid  drugoffset  drugenteredoffset  \\\n",
       "0         13383114            2704494      -87132               2153   \n",
       "1         13383116            2704494      -87132               2153   \n",
       "2         13383117            2704494      -87132               2153   \n",
       "3         13383119            2704494      -87132               2153   \n",
       "4         13383118            2704494      -87132               2153   \n",
       "\n",
       "                                            drugname  drughiclseqno  \n",
       "0  IMDUR                                         ...           6341  \n",
       "1  PROTONIX                                      ...          22008  \n",
       "2  SOLU-MEDROL                                   ...          36808  \n",
       "3  ZAROXOLYN                                     ...           3663  \n",
       "4  SURFAK                                        ...           1324  "
      ]
     },
     "execution_count": 10,
     "metadata": {},
     "output_type": "execute_result"
    }
   ],
   "source": [
    "# Look at a subset of columns\n",
    "cols = ['admissiondrugid','patientunitstayid','drugoffset','drugenteredoffset','drugname','drughiclseqno']\n",
    "df[cols].head()"
   ]
  },
  {
   "cell_type": "markdown",
   "metadata": {},
   "source": [
    "Here we can see that these drugs were documented 2153 minutes (1.5 days) after ICU admission, but administered 87132 minutes (60 days) *before* ICU admission (thus, the negative offset). Since it's reasonable to assume the patient is still taking the drug (as this is the admissiondrug table), `drugoffset` can likely be treated as a start time for a prescription of the drug."
   ]
  },
  {
   "cell_type": "markdown",
   "metadata": {},
   "source": [
    "## Identifying patients admitted on a single drug"
   ]
  },
  {
   "cell_type": "markdown",
   "metadata": {},
   "source": [
    "Let's look for patients who were admitted on Zaroxolyn."
   ]
  },
  {
   "cell_type": "code",
   "execution_count": 40,
   "metadata": {},
   "outputs": [
    {
     "name": "stdout",
     "output_type": "stream",
     "text": [
      "227 unit stays with ZAROXOLYN.\n"
     ]
    }
   ],
   "source": [
    "drug = 'ZAROXOLYN'\n",
    "query = query_schema + \"\"\" select * from admissiondrug where drugname like '%{}%' \"\"\".format(drug)\n",
    "\n",
    "df_drug = pd.read_sql_query(query, con)\n",
    "df_drug.set_index('admissiondrugid',inplace=True)\n",
    "print('{} unit stays with {}.'.format(df_drug['patientunitstayid'].nunique(), drug))"
   ]
  },
  {
   "cell_type": "markdown",
   "metadata": {},
   "source": [
    "Instead of using the drug name, we could try to use the HICL code."
   ]
  },
  {
   "cell_type": "code",
   "execution_count": 8,
   "metadata": {},
   "outputs": [
    {
     "name": "stdout",
     "output_type": "stream",
     "text": [
      "533 unit stays with HICL = 3663.\n"
     ]
    }
   ],
   "source": [
    "hicl = 3663\n",
    "query = query_schema + \"\"\"\n",
    "select \n",
    "  admissiondrugid, patientunitstayid\n",
    "  , drugoffset, drugenteredoffset\n",
    "  , drugname, drughiclseqno\n",
    "from admissiondrug\n",
    "where drughiclseqno = {}\n",
    "\"\"\".format(hicl)\n",
    "\n",
    "df_hicl = pd.read_sql_query(query, con)\n",
    "df_hicl.set_index('admissiondrugid',inplace=True)\n",
    "\n",
    "print('{} unit stays with HICL = {}.'.format(df_hicl['patientunitstayid'].nunique(), hicl))"
   ]
  },
  {
   "cell_type": "code",
   "execution_count": 13,
   "metadata": {},
   "outputs": [
    {
     "data": {
      "text/plain": [
       "admissiondrugid\n",
       "1446305     METOLAZONE                                    ...\n",
       "2087128     METOLAZONE                                    ...\n",
       "2301676     METOLAZONE                                    ...\n",
       "2342400     ZAROXOLYN                                     ...\n",
       "2277764     METOLAZONE                                    ...\n",
       "                                  ...                        \n",
       "18959849    METOLAZONE                                    ...\n",
       "18847151    METOLAZONE                                    ...\n",
       "18816759    METOLAZONE                                    ...\n",
       "19036596    METOLAZONE                                    ...\n",
       "19051214    METOLAZONE                                    ...\n",
       "Name: drugname, Length: 1155, dtype: object"
      ]
     },
     "execution_count": 13,
     "metadata": {},
     "output_type": "execute_result"
    }
   ],
   "source": [
    "df_hicl.drugname"
   ]
  },
  {
   "cell_type": "markdown",
   "metadata": {},
   "source": [
    "As we can see, using the HICL returned many more observations. Let's take a look at a few:"
   ]
  },
  {
   "cell_type": "code",
   "execution_count": 15,
   "metadata": {},
   "outputs": [
    {
     "data": {
      "text/plain": [
       "METOLAZONE                                                                                                                                                                                                                                                         767\n",
       "ZAROXOLYN                                                                                                                                                                                                                                                          388\n",
       "Name: drugname, dtype: int64"
      ]
     },
     "execution_count": 15,
     "metadata": {},
     "output_type": "execute_result"
    }
   ],
   "source": [
    "# rows in HICL which are *not* in the drug dataframe\n",
    "idx = ~df_hicl.index.isin(df_drug.index)\n",
    "# count the drug names\n",
    "df_hicl.loc[idx, 'drugname'].value_counts()"
   ]
  },
  {
   "cell_type": "markdown",
   "metadata": {},
   "source": [
    "All the rows use the drug name \"Metolazone\". Metolazone is the generic name for the brand Zaroxolyn. This demonstrates the utility of using HICL codes to identify drugs - synonyms like these are very common and can be tedious to find."
   ]
  },
  {
   "cell_type": "markdown",
   "metadata": {},
   "source": [
    "## Hospitals with data available"
   ]
  },
  {
   "cell_type": "code",
   "execution_count": 42,
   "metadata": {},
   "outputs": [
    {
     "data": {
      "text/html": [
       "<div>\n",
       "<style scoped>\n",
       "    .dataframe tbody tr th:only-of-type {\n",
       "        vertical-align: middle;\n",
       "    }\n",
       "\n",
       "    .dataframe tbody tr th {\n",
       "        vertical-align: top;\n",
       "    }\n",
       "\n",
       "    .dataframe thead th {\n",
       "        text-align: right;\n",
       "    }\n",
       "</style>\n",
       "<table border=\"1\" class=\"dataframe\">\n",
       "  <thead>\n",
       "    <tr style=\"text-align: right;\">\n",
       "      <th></th>\n",
       "      <th>hospitalid</th>\n",
       "      <th>number_of_patients</th>\n",
       "      <th>number_of_patients_with_admdrug</th>\n",
       "      <th>data completion</th>\n",
       "    </tr>\n",
       "  </thead>\n",
       "  <tbody>\n",
       "    <tr>\n",
       "      <th>54</th>\n",
       "      <td>420</td>\n",
       "      <td>342170</td>\n",
       "      <td>341168</td>\n",
       "      <td>99.707163</td>\n",
       "    </tr>\n",
       "    <tr>\n",
       "      <th>158</th>\n",
       "      <td>142</td>\n",
       "      <td>33887</td>\n",
       "      <td>33003</td>\n",
       "      <td>97.391330</td>\n",
       "    </tr>\n",
       "    <tr>\n",
       "      <th>12</th>\n",
       "      <td>382</td>\n",
       "      <td>29047</td>\n",
       "      <td>28871</td>\n",
       "      <td>99.394085</td>\n",
       "    </tr>\n",
       "    <tr>\n",
       "      <th>163</th>\n",
       "      <td>365</td>\n",
       "      <td>25941</td>\n",
       "      <td>25735</td>\n",
       "      <td>99.205890</td>\n",
       "    </tr>\n",
       "    <tr>\n",
       "      <th>72</th>\n",
       "      <td>281</td>\n",
       "      <td>25564</td>\n",
       "      <td>25092</td>\n",
       "      <td>98.153654</td>\n",
       "    </tr>\n",
       "    <tr>\n",
       "      <th>...</th>\n",
       "      <td>...</td>\n",
       "      <td>...</td>\n",
       "      <td>...</td>\n",
       "      <td>...</td>\n",
       "    </tr>\n",
       "    <tr>\n",
       "      <th>76</th>\n",
       "      <td>259</td>\n",
       "      <td>586</td>\n",
       "      <td>0</td>\n",
       "      <td>0.000000</td>\n",
       "    </tr>\n",
       "    <tr>\n",
       "      <th>77</th>\n",
       "      <td>409</td>\n",
       "      <td>33</td>\n",
       "      <td>0</td>\n",
       "      <td>0.000000</td>\n",
       "    </tr>\n",
       "    <tr>\n",
       "      <th>136</th>\n",
       "      <td>158</td>\n",
       "      <td>494</td>\n",
       "      <td>0</td>\n",
       "      <td>0.000000</td>\n",
       "    </tr>\n",
       "    <tr>\n",
       "      <th>135</th>\n",
       "      <td>66</td>\n",
       "      <td>1002</td>\n",
       "      <td>0</td>\n",
       "      <td>0.000000</td>\n",
       "    </tr>\n",
       "    <tr>\n",
       "      <th>104</th>\n",
       "      <td>245</td>\n",
       "      <td>597</td>\n",
       "      <td>0</td>\n",
       "      <td>0.000000</td>\n",
       "    </tr>\n",
       "  </tbody>\n",
       "</table>\n",
       "<p>208 rows × 4 columns</p>\n",
       "</div>"
      ],
      "text/plain": [
       "     hospitalid  number_of_patients  number_of_patients_with_admdrug  \\\n",
       "54          420              342170                           341168   \n",
       "158         142               33887                            33003   \n",
       "12          382               29047                            28871   \n",
       "163         365               25941                            25735   \n",
       "72          281               25564                            25092   \n",
       "..          ...                 ...                              ...   \n",
       "76          259                 586                                0   \n",
       "77          409                  33                                0   \n",
       "136         158                 494                                0   \n",
       "135          66                1002                                0   \n",
       "104         245                 597                                0   \n",
       "\n",
       "     data completion  \n",
       "54         99.707163  \n",
       "158        97.391330  \n",
       "12         99.394085  \n",
       "163        99.205890  \n",
       "72         98.153654  \n",
       "..               ...  \n",
       "76          0.000000  \n",
       "77          0.000000  \n",
       "136         0.000000  \n",
       "135         0.000000  \n",
       "104         0.000000  \n",
       "\n",
       "[208 rows x 4 columns]"
      ]
     },
     "execution_count": 42,
     "metadata": {},
     "output_type": "execute_result"
    }
   ],
   "source": [
    "query = query_schema + \"\"\"\n",
    "select \n",
    "  pt.hospitalid\n",
    "  , count(pt.patientunitstayid) as number_of_patients\n",
    "  , count(ad.patientunitstayid) as number_of_patients_with_admdrug\n",
    "from patient pt\n",
    "left join admissiondrug ad\n",
    "  on pt.patientunitstayid = ad.patientunitstayid\n",
    "group by pt.hospitalid\n",
    "\"\"\".format(patientunitstayid)\n",
    "\n",
    "df = pd.read_sql_query(query, con)\n",
    "df['data completion'] = df['number_of_patients_with_admdrug'] / df['number_of_patients'] * 100.0\n",
    "df.sort_values('number_of_patients_with_admdrug', ascending=False, inplace=True)\n",
    "df"
   ]
  },
  {
   "cell_type": "code",
   "execution_count": 45,
   "metadata": {},
   "outputs": [
    {
     "data": {
      "text/html": [
       "<div class=\"vega-embed\" id=\"c691ee77-4ac4-4a15-9ac5-3f662f00a173\"></div>\n",
       "\n",
       "<style>\n",
       ".vega-embed .vega-actions > a {\n",
       "    transition: opacity 200ms ease-in;\n",
       "    opacity: 0.3;\n",
       "    margin-right: 0.6em;\n",
       "    color: #444;\n",
       "    text-decoration: none;\n",
       "}\n",
       "\n",
       ".vega-embed .vega-actions > a:hover {\n",
       "    color: #000;\n",
       "    text-decoration: underline;\n",
       "}\n",
       "\n",
       ".vega-embed:hover .vega-actions > a {\n",
       "    opacity: 1;\n",
       "    transition: 0s;\n",
       "}\n",
       "\n",
       ".vega-embed .error p {\n",
       "    color: firebrick;\n",
       "    font-size: 1.2em;\n",
       "}\n",
       "</style>\n"
      ]
     },
     "metadata": {
      "jupyter-vega3": "#c691ee77-4ac4-4a15-9ac5-3f662f00a173"
     },
     "output_type": "display_data"
    },
    {
     "data": {
      "application/javascript": [
       "var spec = {\"mark\": \"bar\", \"encoding\": {\"x\": {\"bin\": {\"maxbins\": 10}, \"field\": \"Percent of patients with data\", \"type\": \"quantitative\"}, \"y\": {\"aggregate\": \"count\", \"type\": \"quantitative\", \"stack\": null}, \"color\": {\"field\": \"Number of hospitals\", \"type\": \"nominal\"}}, \"$schema\": \"https://vega.github.io/schema/vega-lite/v2.json\", \"width\": 450, \"height\": 300, \"selection\": {\"grid\": {\"type\": \"interval\", \"bind\": \"scales\"}}, \"data\": {\"values\": [{\"Number of hospitals\": \"data completion\", \"Percent of patients with data\": 99.70716310605839}, {\"Number of hospitals\": \"data completion\", \"Percent of patients with data\": 97.39133000855786}, {\"Number of hospitals\": \"data completion\", \"Percent of patients with data\": 99.39408544772266}, {\"Number of hospitals\": \"data completion\", \"Percent of patients with data\": 99.2058902895031}, {\"Number of hospitals\": \"data completion\", \"Percent of patients with data\": 98.15365357534033}, {\"Number of hospitals\": \"data completion\", \"Percent of patients with data\": 99.33890048712595}, {\"Number of hospitals\": \"data completion\", \"Percent of patients with data\": 95.38050394502417}, {\"Number of hospitals\": \"data completion\", \"Percent of patients with data\": 94.49754694637117}, {\"Number of hospitals\": \"data completion\", \"Percent of patients with data\": 98.39860314292841}, {\"Number of hospitals\": \"data completion\", \"Percent of patients with data\": 92.99521721801514}, {\"Number of hospitals\": \"data completion\", \"Percent of patients with data\": 99.13537393499526}, {\"Number of hospitals\": \"data completion\", \"Percent of patients with data\": 98.3529250956807}, {\"Number of hospitals\": \"data completion\", \"Percent of patients with data\": 82.52706749596868}, {\"Number of hospitals\": \"data completion\", \"Percent of patients with data\": 98.78725891291641}, {\"Number of hospitals\": \"data completion\", \"Percent of patients with data\": 97.820763956905}, {\"Number of hospitals\": \"data completion\", \"Percent of patients with data\": 98.8303087640836}, {\"Number of hospitals\": \"data completion\", \"Percent of patients with data\": 92.72040302267003}, {\"Number of hospitals\": \"data completion\", \"Percent of patients with data\": 97.60643515793605}, {\"Number of hospitals\": \"data completion\", \"Percent of patients with data\": 78.42727345822948}, {\"Number of hospitals\": \"data completion\", \"Percent of patients with data\": 98.44176869371648}, {\"Number of hospitals\": \"data completion\", \"Percent of patients with data\": 96.84754521963825}, {\"Number of hospitals\": \"data completion\", \"Percent of patients with data\": 99.3478016417407}, {\"Number of hospitals\": \"data completion\", \"Percent of patients with data\": 98.61695730607336}, {\"Number of hospitals\": \"data completion\", \"Percent of patients with data\": 98.82154882154882}, {\"Number of hospitals\": \"data completion\", \"Percent of patients with data\": 89.78199975642431}, {\"Number of hospitals\": \"data completion\", \"Percent of patients with data\": 98.59474804826118}, {\"Number of hospitals\": \"data completion\", \"Percent of patients with data\": 98.91556932610379}, {\"Number of hospitals\": \"data completion\", \"Percent of patients with data\": 98.54794957715015}, {\"Number of hospitals\": \"data completion\", \"Percent of patients with data\": 98.65760957464013}, {\"Number of hospitals\": \"data completion\", \"Percent of patients with data\": 80.15538583091914}, {\"Number of hospitals\": \"data completion\", \"Percent of patients with data\": 92.43070362473348}, {\"Number of hospitals\": \"data completion\", \"Percent of patients with data\": 82.86078820527361}, {\"Number of hospitals\": \"data completion\", \"Percent of patients with data\": 75.5708103268169}, {\"Number of hospitals\": \"data completion\", \"Percent of patients with data\": 96.68137348935353}, {\"Number of hospitals\": \"data completion\", \"Percent of patients with data\": 59.11359315589354}, {\"Number of hospitals\": \"data completion\", \"Percent of patients with data\": 77.42198987093613}, {\"Number of hospitals\": \"data completion\", \"Percent of patients with data\": 97.03862660944206}, {\"Number of hospitals\": \"data completion\", \"Percent of patients with data\": 97.71689497716895}, {\"Number of hospitals\": \"data completion\", \"Percent of patients with data\": 99.46705426356588}, {\"Number of hospitals\": \"data completion\", \"Percent of patients with data\": 80.62325209748302}, {\"Number of hospitals\": \"data completion\", \"Percent of patients with data\": 96.1864406779661}, {\"Number of hospitals\": \"data completion\", \"Percent of patients with data\": 99.08136482939632}, {\"Number of hospitals\": \"data completion\", \"Percent of patients with data\": 85.98336594911937}, {\"Number of hospitals\": \"data completion\", \"Percent of patients with data\": 99.05660377358491}, {\"Number of hospitals\": \"data completion\", \"Percent of patients with data\": 81.01960784313725}, {\"Number of hospitals\": \"data completion\", \"Percent of patients with data\": 81.44635447540011}, {\"Number of hospitals\": \"data completion\", \"Percent of patients with data\": 70.72697003329634}, {\"Number of hospitals\": \"data completion\", \"Percent of patients with data\": 72.11347517730496}, {\"Number of hospitals\": \"data completion\", \"Percent of patients with data\": 76.51675218834893}, {\"Number of hospitals\": \"data completion\", \"Percent of patients with data\": 99.51787866613098}, {\"Number of hospitals\": \"data completion\", \"Percent of patients with data\": 89.10476190476192}, {\"Number of hospitals\": \"data completion\", \"Percent of patients with data\": 88.88386805241754}, {\"Number of hospitals\": \"data completion\", \"Percent of patients with data\": 80.7949790794979}, {\"Number of hospitals\": \"data completion\", \"Percent of patients with data\": 77.1140092553639}, {\"Number of hospitals\": \"data completion\", \"Percent of patients with data\": 82.50226654578422}, {\"Number of hospitals\": \"data completion\", \"Percent of patients with data\": 39.543559359227565}, {\"Number of hospitals\": \"data completion\", \"Percent of patients with data\": 94.76495726495726}, {\"Number of hospitals\": \"data completion\", \"Percent of patients with data\": 93.25053995680346}, {\"Number of hospitals\": \"data completion\", \"Percent of patients with data\": 89.0738813735692}, {\"Number of hospitals\": \"data completion\", \"Percent of patients with data\": 45.598591549295776}, {\"Number of hospitals\": \"data completion\", \"Percent of patients with data\": 94.16413373860182}, {\"Number of hospitals\": \"data completion\", \"Percent of patients with data\": 83.45945945945947}, {\"Number of hospitals\": \"data completion\", \"Percent of patients with data\": 88.47262247838617}, {\"Number of hospitals\": \"data completion\", \"Percent of patients with data\": 79.3103448275862}, {\"Number of hospitals\": \"data completion\", \"Percent of patients with data\": 83.9000693962526}, {\"Number of hospitals\": \"data completion\", \"Percent of patients with data\": 53.14076111875286}, {\"Number of hospitals\": \"data completion\", \"Percent of patients with data\": 52.531328320802004}, {\"Number of hospitals\": \"data completion\", \"Percent of patients with data\": 53.221288515406165}, {\"Number of hospitals\": \"data completion\", \"Percent of patients with data\": 85.12773722627736}, {\"Number of hospitals\": \"data completion\", \"Percent of patients with data\": 52.62563523433089}, {\"Number of hospitals\": \"data completion\", \"Percent of patients with data\": 98.68421052631578}, {\"Number of hospitals\": \"data completion\", \"Percent of patients with data\": 77.96278158667972}, {\"Number of hospitals\": \"data completion\", \"Percent of patients with data\": 58.21917808219178}, {\"Number of hospitals\": \"data completion\", \"Percent of patients with data\": 99.01960784313727}, {\"Number of hospitals\": \"data completion\", \"Percent of patients with data\": 53.5632183908046}, {\"Number of hospitals\": \"data completion\", \"Percent of patients with data\": 99.22600619195046}, {\"Number of hospitals\": \"data completion\", \"Percent of patients with data\": 55.1654964894684}, {\"Number of hospitals\": \"data completion\", \"Percent of patients with data\": 88.58603066439524}, {\"Number of hospitals\": \"data completion\", \"Percent of patients with data\": 28.476454293628812}, {\"Number of hospitals\": \"data completion\", \"Percent of patients with data\": 48.760330578512395}, {\"Number of hospitals\": \"data completion\", \"Percent of patients with data\": 50.74183976261127}, {\"Number of hospitals\": \"data completion\", \"Percent of patients with data\": 50.0805152979066}, {\"Number of hospitals\": \"data completion\", \"Percent of patients with data\": 63.45733041575492}, {\"Number of hospitals\": \"data completion\", \"Percent of patients with data\": 60.08316008316008}, {\"Number of hospitals\": \"data completion\", \"Percent of patients with data\": 83.0827067669173}, {\"Number of hospitals\": \"data completion\", \"Percent of patients with data\": 50.467289719626166}, {\"Number of hospitals\": \"data completion\", \"Percent of patients with data\": 89.21161825726142}, {\"Number of hospitals\": \"data completion\", \"Percent of patients with data\": 32.847896440129446}, {\"Number of hospitals\": \"data completion\", \"Percent of patients with data\": 48.58611825192802}, {\"Number of hospitals\": \"data completion\", \"Percent of patients with data\": 50.476190476190474}, {\"Number of hospitals\": \"data completion\", \"Percent of patients with data\": 8.561020036429873}, {\"Number of hospitals\": \"data completion\", \"Percent of patients with data\": 30.985915492957744}, {\"Number of hospitals\": \"data completion\", \"Percent of patients with data\": 99.1869918699187}, {\"Number of hospitals\": \"data completion\", \"Percent of patients with data\": 2.841357537490134}, {\"Number of hospitals\": \"data completion\", \"Percent of patients with data\": 71.73913043478261}, {\"Number of hospitals\": \"data completion\", \"Percent of patients with data\": 88.78504672897196}, {\"Number of hospitals\": \"data completion\", \"Percent of patients with data\": 24.838709677419356}, {\"Number of hospitals\": \"data completion\", \"Percent of patients with data\": 42.13483146067416}, {\"Number of hospitals\": \"data completion\", \"Percent of patients with data\": 82.02247191011236}, {\"Number of hospitals\": \"data completion\", \"Percent of patients with data\": 55.833333333333336}, {\"Number of hospitals\": \"data completion\", \"Percent of patients with data\": 9.345794392523365}, {\"Number of hospitals\": \"data completion\", \"Percent of patients with data\": 31.891891891891895}, {\"Number of hospitals\": \"data completion\", \"Percent of patients with data\": 8.88529886914378}, {\"Number of hospitals\": \"data completion\", \"Percent of patients with data\": 55.319148936170215}, {\"Number of hospitals\": \"data completion\", \"Percent of patients with data\": 12.935323383084576}, {\"Number of hospitals\": \"data completion\", \"Percent of patients with data\": 62.06896551724138}, {\"Number of hospitals\": \"data completion\", \"Percent of patients with data\": 72.91666666666666}, {\"Number of hospitals\": \"data completion\", \"Percent of patients with data\": 33.33333333333333}, {\"Number of hospitals\": \"data completion\", \"Percent of patients with data\": 0.7662835249042145}, {\"Number of hospitals\": \"data completion\", \"Percent of patients with data\": 79.41176470588235}, {\"Number of hospitals\": \"data completion\", \"Percent of patients with data\": 1.8046709129511678}, {\"Number of hospitals\": \"data completion\", \"Percent of patients with data\": 5.204460966542751}, {\"Number of hospitals\": \"data completion\", \"Percent of patients with data\": 19.17808219178082}, {\"Number of hospitals\": \"data completion\", \"Percent of patients with data\": 0.2808988764044944}, {\"Number of hospitals\": \"data completion\", \"Percent of patients with data\": 1.3089005235602094}, {\"Number of hospitals\": \"data completion\", \"Percent of patients with data\": 0.48134777376654636}, {\"Number of hospitals\": \"data completion\", \"Percent of patients with data\": 0.2039775624681285}, {\"Number of hospitals\": \"data completion\", \"Percent of patients with data\": 0.0962463907603465}, {\"Number of hospitals\": \"data completion\", \"Percent of patients with data\": 0.3194888178913738}, {\"Number of hospitals\": \"data completion\", \"Percent of patients with data\": 0.29411764705882354}, {\"Number of hospitals\": \"data completion\", \"Percent of patients with data\": 8.333333333333332}, {\"Number of hospitals\": \"data completion\", \"Percent of patients with data\": 0.038182512409316534}, {\"Number of hospitals\": \"data completion\", \"Percent of patients with data\": 0.0}, {\"Number of hospitals\": \"data completion\", \"Percent of patients with data\": 0.0}, {\"Number of hospitals\": \"data completion\", \"Percent of patients with data\": 0.0}, {\"Number of hospitals\": \"data completion\", \"Percent of patients with data\": 0.0}, {\"Number of hospitals\": \"data completion\", \"Percent of patients with data\": 0.0}, {\"Number of hospitals\": \"data completion\", \"Percent of patients with data\": 0.0}, {\"Number of hospitals\": \"data completion\", \"Percent of patients with data\": 0.0}, {\"Number of hospitals\": \"data completion\", \"Percent of patients with data\": 0.0}, {\"Number of hospitals\": \"data completion\", \"Percent of patients with data\": 0.0}, {\"Number of hospitals\": \"data completion\", \"Percent of patients with data\": 0.0}, {\"Number of hospitals\": \"data completion\", \"Percent of patients with data\": 0.0}, {\"Number of hospitals\": \"data completion\", \"Percent of patients with data\": 0.0}, {\"Number of hospitals\": \"data completion\", \"Percent of patients with data\": 0.0}, {\"Number of hospitals\": \"data completion\", \"Percent of patients with data\": 0.0}, {\"Number of hospitals\": \"data completion\", \"Percent of patients with data\": 0.0}, {\"Number of hospitals\": \"data completion\", \"Percent of patients with data\": 0.0}, {\"Number of hospitals\": \"data completion\", \"Percent of patients with data\": 0.0}, {\"Number of hospitals\": \"data completion\", \"Percent of patients with data\": 0.0}, {\"Number of hospitals\": \"data completion\", \"Percent of patients with data\": 0.0}, {\"Number of hospitals\": \"data completion\", \"Percent of patients with data\": 0.0}, {\"Number of hospitals\": \"data completion\", \"Percent of patients with data\": 0.0}, {\"Number of hospitals\": \"data completion\", \"Percent of patients with data\": 0.0}, {\"Number of hospitals\": \"data completion\", \"Percent of patients with data\": 0.0}, {\"Number of hospitals\": \"data completion\", \"Percent of patients with data\": 0.0}, {\"Number of hospitals\": \"data completion\", \"Percent of patients with data\": 0.0}, {\"Number of hospitals\": \"data completion\", \"Percent of patients with data\": 0.0}, {\"Number of hospitals\": \"data completion\", \"Percent of patients with data\": 0.0}, {\"Number of hospitals\": \"data completion\", \"Percent of patients with data\": 0.0}, {\"Number of hospitals\": \"data completion\", \"Percent of patients with data\": 0.0}, {\"Number of hospitals\": \"data completion\", \"Percent of patients with data\": 0.0}, {\"Number of hospitals\": \"data completion\", \"Percent of patients with data\": 0.0}, {\"Number of hospitals\": \"data completion\", \"Percent of patients with data\": 0.0}, {\"Number of hospitals\": \"data completion\", \"Percent of patients with data\": 0.0}, {\"Number of hospitals\": \"data completion\", \"Percent of patients with data\": 0.0}, {\"Number of hospitals\": \"data completion\", \"Percent of patients with data\": 0.0}, {\"Number of hospitals\": \"data completion\", \"Percent of patients with data\": 0.0}, {\"Number of hospitals\": \"data completion\", \"Percent of patients with data\": 0.0}, {\"Number of hospitals\": \"data completion\", \"Percent of patients with data\": 0.0}, {\"Number of hospitals\": \"data completion\", \"Percent of patients with data\": 0.0}, {\"Number of hospitals\": \"data completion\", \"Percent of patients with data\": 0.0}, {\"Number of hospitals\": \"data completion\", \"Percent of patients with data\": 0.0}, {\"Number of hospitals\": \"data completion\", \"Percent of patients with data\": 0.0}, {\"Number of hospitals\": \"data completion\", \"Percent of patients with data\": 0.0}, {\"Number of hospitals\": \"data completion\", \"Percent of patients with data\": 0.0}, {\"Number of hospitals\": \"data completion\", \"Percent of patients with data\": 0.0}, {\"Number of hospitals\": \"data completion\", \"Percent of patients with data\": 0.0}, {\"Number of hospitals\": \"data completion\", \"Percent of patients with data\": 0.0}, {\"Number of hospitals\": \"data completion\", \"Percent of patients with data\": 0.0}, {\"Number of hospitals\": \"data completion\", \"Percent of patients with data\": 0.0}, {\"Number of hospitals\": \"data completion\", \"Percent of patients with data\": 0.0}, {\"Number of hospitals\": \"data completion\", \"Percent of patients with data\": 0.0}, {\"Number of hospitals\": \"data completion\", \"Percent of patients with data\": 0.0}, {\"Number of hospitals\": \"data completion\", \"Percent of patients with data\": 0.0}, {\"Number of hospitals\": \"data completion\", \"Percent of patients with data\": 0.0}, {\"Number of hospitals\": \"data completion\", \"Percent of patients with data\": 0.0}, {\"Number of hospitals\": \"data completion\", \"Percent of patients with data\": 0.0}, {\"Number of hospitals\": \"data completion\", \"Percent of patients with data\": 0.0}, {\"Number of hospitals\": \"data completion\", \"Percent of patients with data\": 0.0}, {\"Number of hospitals\": \"data completion\", \"Percent of patients with data\": 0.0}, {\"Number of hospitals\": \"data completion\", \"Percent of patients with data\": 0.0}, {\"Number of hospitals\": \"data completion\", \"Percent of patients with data\": 0.0}, {\"Number of hospitals\": \"data completion\", \"Percent of patients with data\": 0.0}, {\"Number of hospitals\": \"data completion\", \"Percent of patients with data\": 0.0}, {\"Number of hospitals\": \"data completion\", \"Percent of patients with data\": 0.0}, {\"Number of hospitals\": \"data completion\", \"Percent of patients with data\": 0.0}, {\"Number of hospitals\": \"data completion\", \"Percent of patients with data\": 0.0}, {\"Number of hospitals\": \"data completion\", \"Percent of patients with data\": 0.0}, {\"Number of hospitals\": \"data completion\", \"Percent of patients with data\": 0.0}, {\"Number of hospitals\": \"data completion\", \"Percent of patients with data\": 0.0}, {\"Number of hospitals\": \"data completion\", \"Percent of patients with data\": 0.0}, {\"Number of hospitals\": \"data completion\", \"Percent of patients with data\": 0.0}, {\"Number of hospitals\": \"data completion\", \"Percent of patients with data\": 0.0}, {\"Number of hospitals\": \"data completion\", \"Percent of patients with data\": 0.0}, {\"Number of hospitals\": \"data completion\", \"Percent of patients with data\": 0.0}, {\"Number of hospitals\": \"data completion\", \"Percent of patients with data\": 0.0}, {\"Number of hospitals\": \"data completion\", \"Percent of patients with data\": 0.0}, {\"Number of hospitals\": \"data completion\", \"Percent of patients with data\": 0.0}, {\"Number of hospitals\": \"data completion\", \"Percent of patients with data\": 0.0}, {\"Number of hospitals\": \"data completion\", \"Percent of patients with data\": 0.0}, {\"Number of hospitals\": \"data completion\", \"Percent of patients with data\": 0.0}, {\"Number of hospitals\": \"data completion\", \"Percent of patients with data\": 0.0}, {\"Number of hospitals\": \"data completion\", \"Percent of patients with data\": 0.0}, {\"Number of hospitals\": \"data completion\", \"Percent of patients with data\": 0.0}, {\"Number of hospitals\": \"data completion\", \"Percent of patients with data\": 0.0}, {\"Number of hospitals\": \"data completion\", \"Percent of patients with data\": 0.0}, {\"Number of hospitals\": \"data completion\", \"Percent of patients with data\": 0.0}]}};\n",
       "var opt = {};\n",
       "var selector = \"#c691ee77-4ac4-4a15-9ac5-3f662f00a173\";\n",
       "var type = \"vega-lite\";\n",
       "\n",
       "var output_area = this;\n",
       "\n",
       "require(['nbextensions/jupyter-vega3/index'], function(vega) {\n",
       "  vega.render(selector, spec, type, opt, output_area);\n",
       "}, function (err) {\n",
       "  if (err.requireType !== 'scripterror') {\n",
       "    throw(err);\n",
       "  }\n",
       "});\n"
      ]
     },
     "metadata": {
      "jupyter-vega3": "#c691ee77-4ac4-4a15-9ac5-3f662f00a173"
     },
     "output_type": "display_data"
    }
   ],
   "source": [
    "df[['data completion']].vgplot.hist(bins=10,\n",
    "                                    var_name='Number of hospitals',\n",
    "                                    value_name='Percent of patients with data')"
   ]
  },
  {
   "cell_type": "markdown",
   "metadata": {},
   "source": [
    "As is common in eICU-CRD, there are a subset of hospitals who routinely utilize this portion of the medical record (and thus have 90-100% data completion), while there are other hospitals who rarely use this interface and thus have poor data completion (0-10%)."
   ]
  }
 ],
 "metadata": {
  "kernelspec": {
   "display_name": "Python 3",
   "language": "python",
   "name": "python3"
  },
  "language_info": {
   "codemirror_mode": {
    "name": "ipython",
    "version": 3
   },
   "file_extension": ".py",
   "mimetype": "text/x-python",
   "name": "python",
   "nbconvert_exporter": "python",
   "pygments_lexer": "ipython3",
   "version": "3.7.5"
  }
 },
 "nbformat": 4,
 "nbformat_minor": 4
}
